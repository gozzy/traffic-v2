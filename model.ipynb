{
 "cells": [
  {
   "cell_type": "code",
   "execution_count": 51,
   "metadata": {
    "collapsed": false
   },
   "outputs": [],
   "source": [
    "import pandas as ps\n",
    "import numpy as np\n",
    "from sklearn.ensemble import RandomForestClassifier\n",
    "from sklearn.preprocessing import StandardScaler, LabelEncoder\n",
    "from sklearn.metrics import classification_report"
   ]
  },
  {
   "cell_type": "code",
   "execution_count": 46,
   "metadata": {
    "collapsed": false,
    "scrolled": true
   },
   "outputs": [
    {
     "name": "stdout",
     "output_type": "stream",
     "text": [
      "Количество записей каждого протокола:\n",
      "DNS                 6507\n",
      "HTTP                2626\n",
      "SSL                 768\n",
      "SSL_No_Cert         90\n",
      "Apple               25\n",
      "NTP                 17\n",
      "Quic                111\n",
      "BitTorrent          93\n",
      "Skype               283\n",
      "Unknown             22\n",
      "Unencryped_Jabber   1\n"
     ]
    }
   ],
   "source": [
    "data = ps.read_csv(\"flows.csv\")\n",
    "print(\"Количество записей каждого протокола:\")\n",
    "for proto in data[\"proto\"].unique():\n",
    "    print(\"{}{}\".format(proto.ljust(20), len(data[data[\"proto\"] == proto])))"
   ]
  },
  {
   "cell_type": "markdown",
   "metadata": {},
   "source": [
    "## Обработка данных"
   ]
  },
  {
   "cell_type": "code",
   "execution_count": 47,
   "metadata": {
    "collapsed": true
   },
   "outputs": [],
   "source": [
    "drop_protos = [\"Unknown\", \"Unencryped_Jabber\", \"NTP\", \"Apple\"]\n",
    "replace_protos = [(\"SSL_No_Cert\", \"SSL\")]\n",
    "data = data[~data[\"proto\"].isin(drop_protos)]\n",
    "for old_proto, new_proto in replace_protos:\n",
    "    data = data.replace(old_proto, new_proto)"
   ]
  },
  {
   "cell_type": "code",
   "execution_count": 48,
   "metadata": {
    "collapsed": false
   },
   "outputs": [
    {
     "name": "stdout",
     "output_type": "stream",
     "text": [
      "Новое количество записей каждого протокола:\n",
      "DNS         6507\n",
      "HTTP        2626\n",
      "SSL         858\n",
      "Quic        111\n",
      "BitTorrent  93\n",
      "Skype       283\n"
     ]
    }
   ],
   "source": [
    "print(\"Новое количество записей каждого протокола:\")\n",
    "for proto in data[\"proto\"].unique():\n",
    "    print(\"{}{}\".format(proto.ljust(12), len(data[data[\"proto\"] == proto])))"
   ]
  },
  {
   "cell_type": "markdown",
   "metadata": {},
   "source": [
    "## Разделение данных на обучающую и тестовую выборки"
   ]
  },
  {
   "cell_type": "code",
   "execution_count": 40,
   "metadata": {
    "collapsed": false
   },
   "outputs": [],
   "source": [
    "proto_clusters = [data[data[\"proto\"] == proto] for proto in data[\"proto\"].unique()]\n",
    "train_clusters = []\n",
    "test_clusters = []\n",
    "for cluster in proto_clusters:\n",
    "    np.random.seed(42)\n",
    "    cluster = cluster.iloc[np.random.permutation(len(cluster))]\n",
    "    split_index = len(cluster)//3\n",
    "    train_clusters.append(cluster.iloc[:split_index])\n",
    "    test_clusters.append(cluster.iloc[split_index:])"
   ]
  },
  {
   "cell_type": "code",
   "execution_count": 41,
   "metadata": {
    "collapsed": false
   },
   "outputs": [
    {
     "name": "stdout",
     "output_type": "stream",
     "text": [
      "Обучающая выборка: 3492 записей\n",
      "Проверочная выборка: 6986 записей\n"
     ]
    }
   ],
   "source": [
    "train_data = ps.concat(train_clusters)\n",
    "test_data = ps.concat(test_clusters)\n",
    "print(\"Обучающая выборка: {} записей\\nПроверочная выборка: {} записей\".format(len(train_data), len(test_data)))"
   ]
  },
  {
   "cell_type": "code",
   "execution_count": 43,
   "metadata": {
    "collapsed": false
   },
   "outputs": [
    {
     "name": "stdout",
     "output_type": "stream",
     "text": [
      "Количество записей каждого протокола:\n",
      "DNS         2169/4338\n",
      "HTTP        875/1751\n",
      "SSL         286/572\n",
      "Quic        37/74\n",
      "BitTorrent  31/62\n",
      "Skype       94/189\n"
     ]
    }
   ],
   "source": [
    "print(\"Количество записей каждого протокола:\")\n",
    "for proto in data[\"proto\"].unique():\n",
    "    print(\"{}{}/{}\".format(proto.ljust(12), len(train_data[train_data[\"proto\"] == proto]),\n",
    "                                       len(test_data[test_data[\"proto\"] == proto])))"
   ]
  },
  {
   "cell_type": "markdown",
   "metadata": {},
   "source": [
    "## Обучение и проверка модели"
   ]
  },
  {
   "cell_type": "code",
   "execution_count": 49,
   "metadata": {
    "collapsed": true
   },
   "outputs": [],
   "source": [
    "scaler = StandardScaler()\n",
    "X_train = scaler.fit_transform(train_data.drop([\"proto\", \"subproto\"], axis=1))\n",
    "X_test = scaler.transform(test_data.drop([\"proto\", \"subproto\"], axis=1))"
   ]
  },
  {
   "cell_type": "code",
   "execution_count": 56,
   "metadata": {
    "collapsed": true
   },
   "outputs": [],
   "source": [
    "labeler = LabelEncoder()\n",
    "y_train = labeler.fit_transform(train_data[\"proto\"])\n",
    "y_test = labeler.transform(test_data[\"proto\"])"
   ]
  },
  {
   "cell_type": "code",
   "execution_count": 57,
   "metadata": {
    "collapsed": false
   },
   "outputs": [
    {
     "name": "stdout",
     "output_type": "stream",
     "text": [
      "             precision    recall  f1-score   support\n",
      "\n",
      " BitTorrent       1.00      0.97      0.98        62\n",
      "        DNS       1.00      1.00      1.00      4338\n",
      "       HTTP       1.00      1.00      1.00      1751\n",
      "       Quic       1.00      1.00      1.00        74\n",
      "        SSL       0.99      0.99      0.99       572\n",
      "      Skype       0.98      0.94      0.96       189\n",
      "\n",
      "avg / total       1.00      1.00      1.00      6986\n",
      "\n"
     ]
    }
   ],
   "source": [
    "model = RandomForestClassifier(27, \"entropy\", 9, random_state=42)\n",
    "model.fit(X_train, y_train)\n",
    "y_predicted = model.predict(X_test)\n",
    "true_labels = labeler.inverse_transform(y_test)\n",
    "predicted_labels = labeler.inverse_transform(y_predicted)\n",
    "print(classification_report(true_labels, predicted_labels))"
   ]
  },
  {
   "cell_type": "code",
   "execution_count": 59,
   "metadata": {
    "collapsed": true
   },
   "outputs": [],
   "source": [
    "def cross_class_report(y, p):\n",
    "    classes = np.unique(y)\n",
    "    res = ps.DataFrame({\"y\": y, \"p\": p}, index=None)\n",
    "    table = ps.DataFrame(index=classes, columns=classes)\n",
    "    for true_cls in classes:\n",
    "        tmp = res[res[\"y\"] == true_cls]\n",
    "        for pred_cls in classes:\n",
    "            table[pred_cls][true_cls] = len(tmp[tmp[\"p\"] == pred_cls])\n",
    "    return table"
   ]
  },
  {
   "cell_type": "code",
   "execution_count": 60,
   "metadata": {
    "collapsed": false
   },
   "outputs": [
    {
     "name": "stdout",
     "output_type": "stream",
     "text": [
      "           BitTorrent   DNS  HTTP Quic  SSL Skype\n",
      "BitTorrent         60     0     0    0    2     0\n",
      "DNS                 0  4334     0    0    0     4\n",
      "HTTP                0     0  1750    0    1     0\n",
      "Quic                0     0     0   74    0     0\n",
      "SSL                 0     0     4    0  568     0\n",
      "Skype               0     8     2    0    1   178\n"
     ]
    }
   ],
   "source": [
    "print(cross_class_report(true_labels, predicted_labels))"
   ]
  }
 ],
 "metadata": {
  "kernelspec": {
   "display_name": "Python 3",
   "language": "python",
   "name": "python3"
  },
  "language_info": {
   "codemirror_mode": {
    "name": "ipython",
    "version": 3
   },
   "file_extension": ".py",
   "mimetype": "text/x-python",
   "name": "python",
   "nbconvert_exporter": "python",
   "pygments_lexer": "ipython3",
   "version": "3.5.1+"
  }
 },
 "nbformat": 4,
 "nbformat_minor": 0
}
